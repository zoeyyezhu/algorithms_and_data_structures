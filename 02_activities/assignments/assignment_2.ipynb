{
 "cells": [
  {
   "cell_type": "markdown",
   "metadata": {},
   "source": [
    "# Practice Interview\n",
    "\n",
    "## Objective\n",
    "\n",
    "_*The partner assignment aims to provide participants with the opportunity to practice coding in an interview context. You will analyze your partner's Assignment 1. Moreover, code reviews are common practice in a software development team. This assignment should give you a taste of the code review process.*_\n",
    "\n",
    "## Group Size\n",
    "\n",
    "Each group should have 2 people. You will be assigned a partner\n",
    "\n",
    "## Part 1:\n",
    "\n",
    "You and your partner must share each other's Assignment 1 submission."
   ]
  },
  {
   "cell_type": "markdown",
   "metadata": {},
   "source": [
    "\n",
    "## Part 2:\n",
    "\n",
    "Create a Jupyter Notebook, create 6 of the following headings, and complete the following for your partner's assignment 1:\n",
    "\n",
    "-   Paraphrase the problem in your own words.\n"
   ]
  },
  {
   "cell_type": "code",
   "execution_count": null,
   "metadata": {},
   "outputs": [],
   "source": [
    "# Your answer here\n",
    "\n",
    "You are given a list of n integers where each integer is in the range \n",
    "from 0 to n.Your task is to find all the numbers within this range \n",
    "that are not present in the list. If there are no missing numbers, \n",
    "you should return -1."
   ]
  },
  {
   "cell_type": "markdown",
   "metadata": {},
   "source": [
    "\n",
    "-   Create 1 new example that demonstrates you understand the problem. Trace/walkthrough 1 example that your partner made and explain it.\n"
   ]
  },
  {
   "cell_type": "code",
   "execution_count": null,
   "metadata": {},
   "outputs": [],
   "source": [
    "# Your answer here\n",
    "New Example\n",
    "Example 4\n",
    "\n",
    "Input: lst = [1, 2, 4, 5]\n",
    "Output: [0, 3]\n",
    "The range is [0, 5], but 0 and 3 are missing.\n",
    "Walkthrough of Example 2\n",
    "Example 2\n",
    "\n",
    "Input: lst = [5, 0, 1]\n",
    "Output: [2, 3, 4]"
   ]
  },
  {
   "cell_type": "markdown",
   "metadata": {},
   "source": [
    "\n",
    "-   Copy the solution your partner wrote. \n"
   ]
  },
  {
   "cell_type": "code",
   "execution_count": null,
   "metadata": {},
   "outputs": [],
   "source": [
    "# Your answer here\n",
    "def missing_num(nums: int) -> int:\n",
    "    # Create a set of all numbers in the range [0, max(nums)]\n",
    "    all_nums = set(range(max(nums) + 1))\n",
    "    \n",
    "    # Subtract the set of numbers in the input list from the set of all numbers\n",
    "    missing_nums = all_nums - set(nums)\n",
    "    \n",
    "    # If there are no missing numbers, return -1\n",
    "    if not missing_nums:\n",
    "        return -1\n",
    "    \n",
    "    # Otherwise, return the list of missing numbers\n",
    "    return list(missing_nums)"
   ]
  },
  {
   "cell_type": "code",
   "execution_count": null,
   "metadata": {},
   "outputs": [],
   "source": []
  },
  {
   "cell_type": "markdown",
   "metadata": {},
   "source": [
    "\n",
    "-   Explain why their solution works in your own words.\n"
   ]
  },
  {
   "cell_type": "code",
   "execution_count": null,
   "metadata": {},
   "outputs": [],
   "source": [
    "# Your answer here\n",
    "Correct Range Calculation: By creating a set of all numbers in the range from 0 to the maximum number in nums, the solution ensures that all possible numbers that could be missing are considered.\n",
    "Efficient Set Operations: Using sets for subtraction efficiently identifies the missing numbers because sets provide average O(1) time complexity for membership tests.\n",
    "Handling No Missing Numbers: The solution correctly handles the case where there are no missing numbers by checking if missing_nums is empty and returning -1 in such cases.\n",
    "Converting to List: Returning the missing numbers as a list meets the requirement to return a list of missing numbers rather than a set."
   ]
  },
  {
   "cell_type": "markdown",
   "metadata": {},
   "source": [
    "\n",
    "-   Explain the problem’s time and space complexity in your own words.\n"
   ]
  },
  {
   "cell_type": "code",
   "execution_count": null,
   "metadata": {},
   "outputs": [],
   "source": [
    "# Your answer here\n",
    "Time Complexity: O(n), where \n",
    "n is the length of the input list.\n",
    "Space Complexity: O(n), where \n",
    "n is the length of the input list.\n"
   ]
  },
  {
   "cell_type": "markdown",
   "metadata": {},
   "source": [
    "\n",
    "-   Critique your partner's solution, including explanation, and if there is anything that should be adjusted.\n"
   ]
  },
  {
   "cell_type": "code",
   "execution_count": null,
   "metadata": {},
   "outputs": [],
   "source": [
    "# Your answer here\n",
    "The given solution is effective and correct. It uses set operations to efficiently find missing numbers from the range [0, max(nums)]. The explanation provided is clear and covers all necessary steps and the underlying logic."
   ]
  },
  {
   "cell_type": "markdown",
   "metadata": {},
   "source": [
    "\n",
    "## Part 3:\n",
    "\n",
    "Please write a 200 word reflection documenting your process from assignment 1, and your presentation and review experience with your partner at the bottom of the Jupyter Notebook under a new heading \"Reflection.\" Again, export this Notebook as pdf.\n"
   ]
  },
  {
   "cell_type": "markdown",
   "metadata": {},
   "source": [
    "### Reflection"
   ]
  },
  {
   "cell_type": "code",
   "execution_count": null,
   "metadata": {},
   "outputs": [],
   "source": [
    "# Your answer here\n",
    "My Question: Check Duplicates in Tree\n",
    "When tasked with designing a function to check for duplicates in a binary tree, my approach involved a combination of depth-first search (DFS) and a set to track visited values. I aimed to ensure the solution efficiently identified duplicates by traversing the tree only once. The challenge was managing edge cases, such as when the tree is empty or contains only unique values. Through iterative testing and adjustments, I refined the function to handle various scenarios effectively.\n",
    "\n",
    "Partner's Question: Finding Missing Numbers in a List\n",
    "My partner's question involved identifying missing numbers in a given list within a specific range. Their approach leveraged set operations to compute the missing numbers efficiently. Reviewing their solution, I appreciated the use of sets for efficient difference calculations. However, I noticed minor improvements could be made, such as handling edge cases (e.g., empty lists) and ensuring the function signature was precise.\n",
    "\n",
    "Presentation and Review Experience\n",
    "During our review sessions, I presented my approach to checking duplicates in a binary tree. Explaining my thought process and the rationale behind each step helped me solidify my understanding of the problem. My partner provided insightful feedback, particularly on optimizing space complexity by considering iterative solutions instead of recursive ones for deep trees.\n",
    "\n",
    "When reviewing my partner's solution, I emphasized clarity and edge case handling. I suggested refining the function signature and incorporating detailed comments to enhance readability and maintainability. This collaborative process not only improved our respective solutions but also deepened our understanding of different problem-solving strategies.\n",
    "\n",
    "Overall, the experience was enriching. It highlighted the importance of clear communication, thorough testing, and considering edge cases in algorithm design. Collaborating with my partner fostered a constructive exchange of ideas, ultimately leading to more robust solutions for both our problems.\n"
   ]
  },
  {
   "cell_type": "markdown",
   "metadata": {},
   "source": [
    "\n",
    "## Evaluation Criteria\n",
    "\n",
    "We are looking for the similar points as Assignment 1\n",
    "\n",
    "-   Problem is accurately stated\n",
    "\n",
    "-   New example is correct and easily understandable\n",
    "\n",
    "-   Correctness, time, and space complexity of the coding solution\n",
    "\n",
    "-   Clarity in explaining why the solution works, its time and space complexity\n",
    "\n",
    "-   Quality of critique of your partner's assignment, if necessary\n"
   ]
  },
  {
   "cell_type": "markdown",
   "metadata": {},
   "source": [
    "## Submission Information\n",
    "\n",
    "🚨 **Please review our [Assignment Submission Guide](https://github.com/UofT-DSI/onboarding/blob/main/onboarding_documents/submissions.md)** 🚨 for detailed instructions on how to format, branch, and submit your work. Following these guidelines is crucial for your submissions to be evaluated correctly.\n",
    "\n",
    "### Submission Parameters:\n",
    "* Submission Due Date: `HH:MM AM/PM - DD/MM/YYYY`\n",
    "* The branch name for your repo should be: `assignment-2`\n",
    "* What to submit for this assignment:\n",
    "    * This Jupyter Notebook (assignment_2.ipynb) should be populated and should be the only change in your pull request.\n",
    "* What the pull request link should look like for this assignment: `https://github.com/<your_github_username>/algorithms_and_data_structures/pull/<pr_id>`\n",
    "    * Open a private window in your browser. Copy and paste the link to your pull request into the address bar. Make sure you can see your pull request properly. This helps the technical facilitator and learning support staff review your submission easily.\n",
    "\n",
    "Checklist:\n",
    "- [ ] Created a branch with the correct naming convention.\n",
    "- [ ] Ensured that the repository is public.\n",
    "- [ ] Reviewed the PR description guidelines and adhered to them.\n",
    "- [ ] Verify that the link is accessible in a private browser window.\n",
    "\n",
    "If you encounter any difficulties or have questions, please don't hesitate to reach out to our team via our Slack at `#cohort-3-help`. Our Technical Facilitators and Learning Support staff are here to help you navigate any challenges.\n"
   ]
  }
 ],
 "metadata": {
  "language_info": {
   "name": "python"
  }
 },
 "nbformat": 4,
 "nbformat_minor": 2
}
